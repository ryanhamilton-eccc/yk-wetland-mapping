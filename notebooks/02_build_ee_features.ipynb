{
 "cells": [
  {
   "cell_type": "code",
   "execution_count": 1,
   "metadata": {},
   "outputs": [],
   "source": [
    "import ee\n",
    "\n",
    "ee.Initialize()"
   ]
  },
  {
   "cell_type": "code",
   "execution_count": 2,
   "metadata": {},
   "outputs": [
    {
     "name": "stdout",
     "output_type": "stream",
     "text": [
      "{'geometry': {'coordinates': [-137.52883432047062, 62.95239809256765],\n",
      "              'type': 'Point'},\n",
      " 'id': '00000000000000000054',\n",
      " 'properties': {'class_name': 1, 'id': 2, 'split': 'test', 'type': 2},\n",
      " 'type': 'Feature'}\n"
     ]
    }
   ],
   "source": [
    "from pprint import pprint\n",
    "features = ee.FeatureCollection(\"projects/yk-wetland-mapping/assets/yk-tmp/features\")\n",
    "\n",
    "pprint(features.first().getInfo())"
   ]
  },
  {
   "cell_type": "code",
   "execution_count": 3,
   "metadata": {},
   "outputs": [],
   "source": [
    "from ykwmp.rsd import s1_mosaics, s2_compositing\n",
    "\n",
    "def mkstack(aoi) -> ee.Image:\n",
    "    s1 = s1_mosaics()\n",
    "    s2 = s2_compositing(aoi)\n",
    "    return ee.Image.cat(s1, s2)\n",
    "\n",
    "stack = mkstack(features)\n"
   ]
  },
  {
   "cell_type": "code",
   "execution_count": 4,
   "metadata": {},
   "outputs": [],
   "source": [
    "features = stack.sampleRegions(\n",
    "    collection=features,\n",
    "    scale=10,\n",
    "    geometries=True,\n",
    "    tileScale=16\n",
    ")"
   ]
  },
  {
   "cell_type": "code",
   "execution_count": 5,
   "metadata": {},
   "outputs": [],
   "source": [
    "task = ee.batch.Export.table.toAsset(\n",
    "    collection=features,\n",
    "    assetId=\"projects/yk-wetland-mapping/assets/yk-tmp/samples_2\",\n",
    "    description=\"\"\n",
    ")\n",
    "\n",
    "task.start()"
   ]
  },
  {
   "cell_type": "code",
   "execution_count": null,
   "metadata": {},
   "outputs": [],
   "source": []
  }
 ],
 "metadata": {
  "kernelspec": {
   "display_name": "Python 3",
   "language": "python",
   "name": "python3"
  },
  "language_info": {
   "codemirror_mode": {
    "name": "ipython",
    "version": 3
   },
   "file_extension": ".py",
   "mimetype": "text/x-python",
   "name": "python",
   "nbconvert_exporter": "python",
   "pygments_lexer": "ipython3",
   "version": "3.11.7"
  }
 },
 "nbformat": 4,
 "nbformat_minor": 2
}
