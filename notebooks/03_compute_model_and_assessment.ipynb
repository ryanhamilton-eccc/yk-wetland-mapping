{
 "cells": [
  {
   "cell_type": "code",
   "execution_count": 1,
   "metadata": {},
   "outputs": [],
   "source": [
    "import ee\n",
    "from ykwmp.model import SmileRandomForest\n",
    "\n",
    "ee.Initialize()"
   ]
  },
  {
   "cell_type": "code",
   "execution_count": 2,
   "metadata": {},
   "outputs": [],
   "source": [
    "features = ee.FeatureCollection('projects/yk-wetland-mapping/assets/yk-tmp/samples_2')\n",
    "train = features.filter(ee.Filter.eq('split', 'train'))\n",
    "test = features.filter(ee.Filter.eq('split', 'test'))\n"
   ]
  },
  {
   "cell_type": "code",
   "execution_count": 3,
   "metadata": {},
   "outputs": [
    {
     "name": "stdout",
     "output_type": "stream",
     "text": [
      "{'geometry': {'coordinates': [-134.93580463047712, 61.93969165231954],\n",
      "              'type': 'Point'},\n",
      " 'id': '00000000000000000024',\n",
      " 'properties': {'B11': 1311,\n",
      "                'B12': 632.5,\n",
      "                'B2': 918,\n",
      "                'B3': 791.5,\n",
      "                'B4': 626,\n",
      "                'B5': 1063,\n",
      "                'B6': 1829.5,\n",
      "                'B7': 2035.5,\n",
      "                'B8': 2115,\n",
      "                'NDVI': 0.5228007435798645,\n",
      "                'VH': -17.352159769392596,\n",
      "                'VH_1': -15.699825820252176,\n",
      "                'VH_2': -23.449520470464286,\n",
      "                'VH_3': -19.31954492083921,\n",
      "                'VH_4': -19.391141041992835,\n",
      "                'VH_5': -20.008792829248222,\n",
      "                'VH_6': -14.80247216635841,\n",
      "                'VH_7': -18.374712048606984,\n",
      "                'VV': -13.592056683294274,\n",
      "                'VV_1': -9.767659524275798,\n",
      "                'VV_2': -14.829400690414111,\n",
      "                'VV_3': -12.03139855960469,\n",
      "                'VV_4': -12.24825795269233,\n",
      "                'VV_5': -11.672004196849535,\n",
      "                'VV_6': -13.377931211944926,\n",
      "                'VV_7': -10.34876563206222,\n",
      "                'class_name': 1,\n",
      "                'id': 19,\n",
      "                'split': 'train',\n",
      "                'type': 1},\n",
      " 'type': 'Feature'}\n"
     ]
    }
   ],
   "source": [
    "from pprint import pprint\n",
    "pprint(train.first().getInfo())"
   ]
  },
  {
   "cell_type": "code",
   "execution_count": 11,
   "metadata": {},
   "outputs": [
    {
     "name": "stdout",
     "output_type": "stream",
     "text": [
      "{'geometry': {'coordinates': [-137.5287897294601, 62.95236241975922],\n",
      "              'type': 'Point'},\n",
      " 'id': '00000000000000000000',\n",
      " 'properties': {'B11': 1355.75,\n",
      "                'B12': 599.5,\n",
      "                'B2': 922.3333333333333,\n",
      "                'B3': 818,\n",
      "                'B4': 539.5,\n",
      "                'B5': 1018,\n",
      "                'B6': 2016.75,\n",
      "                'B7': 2413.5,\n",
      "                'B8': 2350.5,\n",
      "                'NDVI': 0.6218747496604919,\n",
      "                'VH': -14.152717992244781,\n",
      "                'VH_1': -14.406614750714342,\n",
      "                'VH_2': -11.064862628717272,\n",
      "                'VH_3': -12.556809803381881,\n",
      "                'VH_4': -17.911079023474038,\n",
      "                'VH_5': -13.386137903458424,\n",
      "                'VH_6': -16.83319109739037,\n",
      "                'VH_7': -15.60547014262963,\n",
      "                'VV': -9.45250356671327,\n",
      "                'VV_1': -7.750281046296034,\n",
      "                'VV_2': -8.1372443171469,\n",
      "                'VV_3': -10.079027434550055,\n",
      "                'VV_4': -8.34479509192825,\n",
      "                'VV_5': -11.787758508244359,\n",
      "                'VV_6': -9.625189238560743,\n",
      "                'VV_7': -9.998948768634765,\n",
      "                'class_name': 1,\n",
      "                'id': 2,\n",
      "                'split': 'test',\n",
      "                'type': 2},\n",
      " 'type': 'Feature'}\n"
     ]
    }
   ],
   "source": [
    "pprint(test.first().getInfo())"
   ]
  },
  {
   "cell_type": "code",
   "execution_count": 4,
   "metadata": {},
   "outputs": [
    {
     "name": "stdout",
     "output_type": "stream",
     "text": [
      "['VV', 'VH_5', 'VH_6', 'VH_7', 'type', 'VH_1', 'VH_2', 'NDVI', 'VH_3', 'VH_4', 'VV_7', 'VV_1', 'VV_2', 'VV_3', 'VV_4', 'VV_5', 'VV_6', 'B11', 'B12', 'B2', 'B3', 'VH', 'B4', 'B5', 'B6', 'B7', 'B8']\n"
     ]
    }
   ],
   "source": [
    "predictors = train.first().propertyNames().removeAll(['split', 'class', 'system:index', 'id', 'system:time_start', 'class_name'])\n",
    "print(predictors.getInfo())"
   ]
  },
  {
   "cell_type": "code",
   "execution_count": 5,
   "metadata": {},
   "outputs": [
    {
     "data": {
      "text/plain": [
       "<ykwmp.model.SmileRandomForest at 0x1ba05902e50>"
      ]
     },
     "execution_count": 5,
     "metadata": {},
     "output_type": "execute_result"
    }
   ],
   "source": [
    "model = SmileRandomForest()\n",
    "model.fit(train, 'class_name', predictors=predictors, numberOfTrees=1000)\n"
   ]
  },
  {
   "cell_type": "code",
   "execution_count": 12,
   "metadata": {},
   "outputs": [],
   "source": [
    "from ykwmp.model import Metrics\n",
    "\n",
    "predict = model.predict(test)\n",
    "metrics = Metrics(test, 'class_name')\n",
    "table = metrics.create_metrics()\n",
    "\n"
   ]
  },
  {
   "cell_type": "code",
   "execution_count": 13,
   "metadata": {},
   "outputs": [],
   "source": [
    "table.get('accuracy').getInfo()"
   ]
  },
  {
   "cell_type": "code",
   "execution_count": 14,
   "metadata": {},
   "outputs": [
    {
     "data": {
      "text/plain": [
       "[[0]]"
      ]
     },
     "execution_count": 14,
     "metadata": {},
     "output_type": "execute_result"
    }
   ],
   "source": [
    "metrics.matrix.getInfo()"
   ]
  },
  {
   "cell_type": "code",
   "execution_count": null,
   "metadata": {},
   "outputs": [],
   "source": []
  }
 ],
 "metadata": {
  "kernelspec": {
   "display_name": "Python 3",
   "language": "python",
   "name": "python3"
  },
  "language_info": {
   "codemirror_mode": {
    "name": "ipython",
    "version": 3
   },
   "file_extension": ".py",
   "mimetype": "text/x-python",
   "name": "python",
   "nbconvert_exporter": "python",
   "pygments_lexer": "ipython3",
   "version": "3.11.7"
  }
 },
 "nbformat": 4,
 "nbformat_minor": 2
}
